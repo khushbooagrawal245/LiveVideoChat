{
 "cells": [
  {
   "cell_type": "code",
   "execution_count": null,
   "id": "d6243e93",
   "metadata": {},
   "outputs": [],
   "source": [
    "#Importing Libraries \n",
    "\n",
    "import socket\n",
    "import urllib\n",
    "import json\n",
    "import pickle\n",
    "import numpy as np\n",
    "import cv2"
   ]
  },
  {
   "cell_type": "code",
   "execution_count": null,
   "id": "eae42f4e",
   "metadata": {},
   "outputs": [],
   "source": [
    "'''External webcam url which use to take every shots \n",
    "of the server or the opposite side \n",
    "[I connect my phone through IP webcam and use that server IP in this URL]'''\n",
    "\n",
    "url = 'http://192.168.1.5:8080/shot.jpg?rnd=317674'"
   ]
  },
  {
   "cell_type": "code",
   "execution_count": null,
   "id": "cea2f9d2",
   "metadata": {},
   "outputs": [],
   "source": [
    "#creating socket object\n",
    "\n",
    "s = socket.socket(socket.AF_INET,socket.SOCK_STREAM)"
   ]
  },
  {
   "cell_type": "code",
   "execution_count": null,
   "id": "0c6d9e5a",
   "metadata": {},
   "outputs": [],
   "source": [
    "#Connecting the Socket\n",
    "\n",
    "ip=\"192.168.1.7\"\n",
    "port=1234\n",
    "s.connect((ip,port))"
   ]
  },
  {
   "cell_type": "code",
   "execution_count": null,
   "id": "865e604f",
   "metadata": {},
   "outputs": [],
   "source": [
    "#loop for every byte (photo) to convert it into video\n",
    "while True:\n",
    "    \n",
    "    x = s.recv(1000000)\n",
    "    print(\"Recieved\")\n",
    "    \n",
    "    imgResp=urllib.request.urlopen(url)\n",
    "    imgNp=np.array(bytearray(imgResp.read()),dtype=np.uint8)\n",
    "    img=cv2.imdecode(imgNp,-1)\n",
    "    img = cv2.resize(img,(700,500))\n",
    "    ret, buffer = cv2.imencode('.jpg',img)\n",
    "    bytedata = pickle.dumps(buffer)\n",
    "    \n",
    "    s.send(bytedata)\n",
    "    try:\n",
    "        data = pickle.loads(x)\n",
    "        data = cv2.imdecode(data,cv2.IMREAD_COLOR)\n",
    "        if data is not None :\n",
    "            cv2.imshow('Client',data)\n",
    "            if cv2.waitKey(10) == 13 :\n",
    "                break\n",
    "    except: \n",
    "        print(\"Waiting for the server!\")\n",
    "     \n",
    "cv2.destroyAllWindows()"
   ]
  },
  {
   "cell_type": "code",
   "execution_count": null,
   "id": "6d513532",
   "metadata": {},
   "outputs": [],
   "source": []
  }
 ],
 "metadata": {
  "kernelspec": {
   "display_name": "Python 3",
   "language": "python",
   "name": "python3"
  },
  "language_info": {
   "codemirror_mode": {
    "name": "ipython",
    "version": 3
   },
   "file_extension": ".py",
   "mimetype": "text/x-python",
   "name": "python",
   "nbconvert_exporter": "python",
   "pygments_lexer": "ipython3",
   "version": "3.9.5"
  }
 },
 "nbformat": 4,
 "nbformat_minor": 5
}
