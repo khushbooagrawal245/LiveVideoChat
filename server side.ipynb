{
 "cells": [
  {
   "cell_type": "code",
   "execution_count": null,
   "id": "e139bb4a",
   "metadata": {},
   "outputs": [],
   "source": [
    "#Importing Libraries \n",
    "\n",
    "import socket\n",
    "import json\n",
    "import pickle\n",
    "import cv2"
   ]
  },
  {
   "cell_type": "code",
   "execution_count": null,
   "id": "799b4ce5",
   "metadata": {},
   "outputs": [],
   "source": [
    "#connecting the internal webcam \n",
    "cap = cv2.VideoCapture(0)\n",
    "\n",
    "#Create Socket object\n",
    "s = socket.socket(socket.AF_INET,socket.SOCK_STREAM)"
   ]
  },
  {
   "cell_type": "code",
   "execution_count": null,
   "id": "315dcd2e",
   "metadata": {},
   "outputs": [],
   "source": [
    "#Socket Binding \n",
    "'''[Binding through host_ip i.e. Router ip through which both server and\n",
    "client both are connected ]'''\n",
    "\n",
    "ip=\"192.168.1.7\"\n",
    "port=1234\n",
    "s.bind((ip,port))\n",
    "print(\"Binded\")\n",
    "s.listen() \n"
   ]
  },
  {
   "cell_type": "code",
   "execution_count": null,
   "id": "14f3a1e5",
   "metadata": {},
   "outputs": [],
   "source": [
    "# Accepting the socket \n",
    "\n",
    "o , addr = s.accept()\n",
    "print(\"Connected to {}\".format(addr))"
   ]
  },
  {
   "cell_type": "code",
   "execution_count": null,
   "id": "36f7ec6a",
   "metadata": {},
   "outputs": [],
   "source": [
    "#loop for every byte (photo) to convert it into video\n",
    "while True:\n",
    "    ret , photo = cap.read()\n",
    "    ret, buffer = cv2.imencode('.jpg',photo)\n",
    "    bytedata = pickle.dumps(buffer)\n",
    "    o.send(bytedata)\n",
    "\n",
    "    x = o.recv(1000000)\n",
    "    \n",
    "    try:\n",
    "        data = pickle.loads(x)\n",
    "        data = cv2.imdecode(data,cv2.IMREAD_COLOR)\n",
    "        if data is not None :\n",
    "            cv2.imshow('server',data)\n",
    "            if cv2.waitKey(10) == 13 :\n",
    "                break\n",
    "    except: \n",
    "        print(\"Waiting for the client!\")\n",
    "#To destroy the Image window        \n",
    "cv2.destroyAllWindows()"
   ]
  },
  {
   "cell_type": "code",
   "execution_count": null,
   "id": "a8ea4aa6",
   "metadata": {},
   "outputs": [],
   "source": [
    "cap.release()"
   ]
  }
 ],
 "metadata": {
  "kernelspec": {
   "display_name": "Python 3",
   "language": "python",
   "name": "python3"
  },
  "language_info": {
   "codemirror_mode": {
    "name": "ipython",
    "version": 3
   },
   "file_extension": ".py",
   "mimetype": "text/x-python",
   "name": "python",
   "nbconvert_exporter": "python",
   "pygments_lexer": "ipython3",
   "version": "3.9.5"
  }
 },
 "nbformat": 4,
 "nbformat_minor": 5
}
